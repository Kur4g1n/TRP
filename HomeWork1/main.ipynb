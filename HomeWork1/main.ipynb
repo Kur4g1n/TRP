{
 "cells": [
  {
   "cell_type": "code",
   "execution_count": null,
   "metadata": {},
   "outputs": [],
   "source": [
    "import numpy as np"
   ]
  },
  {
   "cell_type": "code",
   "execution_count": null,
   "metadata": {},
   "outputs": [],
   "source": [
    "P = np.array([[0.7, 0.3, 0, 0, 0, 0],\n",
    "              [0.2, 0.6, 0.2, 0, 0, 0],\n",
    "              [0, 0, 0.9, 0.1, 0, 0],\n",
    "              [0, 0, 0, 0.7, 0.3, 0],\n",
    "              [0, 0, 0, 0, 0.8, 0.2],\n",
    "              [0.4, 0, 0, 0, 0, 0.6]])"
   ]
  }
 ],
 "metadata": {
  "language_info": {
   "name": "python"
  },
  "orig_nbformat": 4
 },
 "nbformat": 4,
 "nbformat_minor": 2
}
