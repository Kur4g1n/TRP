{
 "cells": [
  {
   "attachments": {},
   "cell_type": "markdown",
   "metadata": {},
   "source": [
    "### Решение"
   ]
  },
  {
   "cell_type": "code",
   "execution_count": 28,
   "metadata": {},
   "outputs": [],
   "source": [
    "import numpy as np\n",
    "import pandas as pd\n",
    "import seaborn as sns"
   ]
  },
  {
   "cell_type": "code",
   "execution_count": 29,
   "metadata": {},
   "outputs": [],
   "source": [
    "pd.set_option('display.max_columns', 100)"
   ]
  },
  {
   "cell_type": "code",
   "execution_count": 30,
   "metadata": {},
   "outputs": [],
   "source": [
    "np.random.seed(42)"
   ]
  },
  {
   "cell_type": "code",
   "execution_count": 31,
   "metadata": {},
   "outputs": [],
   "source": [
    "m = 6\n",
    "k = 25\n",
    "n = 130"
   ]
  },
  {
   "attachments": {},
   "cell_type": "markdown",
   "metadata": {},
   "source": [
    "### 1. Матрица переходных вероятностей"
   ]
  },
  {
   "attachments": {},
   "cell_type": "markdown",
   "metadata": {},
   "source": [
    "\\begin{equation*}\n",
    "P=\n",
    "   \\begin{pmatrix}\n",
    "      0.7& 0.3& 0& 0& 0& 0 \\\\\n",
    "      0.2& 0.6& 0.2& 0& 0& 0 \\\\\n",
    "      0& 0& 0.9& 0.1& 0& 0 \\\\\n",
    "      0& 0& 0& 0.7& 0.3& 0 \\\\\n",
    "      0& 0& 0& 0& 0.8& 0.2 \\\\\n",
    "      0.4& 0& 0& 0& 0& 0.6 \\\\\n",
    "   \\end{pmatrix}\n",
    "\\end{equation*}"
   ]
  },
  {
   "cell_type": "code",
   "execution_count": 32,
   "metadata": {},
   "outputs": [
    {
     "name": "stdout",
     "output_type": "stream",
     "text": [
      "[[0.7 0.3 0.  0.  0.  0. ]\n",
      " [0.2 0.6 0.2 0.  0.  0. ]\n",
      " [0.  0.  0.9 0.1 0.  0. ]\n",
      " [0.  0.  0.  0.7 0.3 0. ]\n",
      " [0.  0.  0.  0.  0.8 0.2]\n",
      " [0.4 0.  0.  0.  0.  0.6]]\n",
      "Размерность полученной матрицы: (6, 6)\n",
      "Проверим, является ли полученная матрица стохастической: True\n"
     ]
    }
   ],
   "source": [
    "P = np.array([[0.7, 0.3, 0, 0, 0, 0],\n",
    "              [0.2, 0.6, 0.2, 0, 0, 0],\n",
    "              [0, 0, 0.9, 0.1, 0, 0],\n",
    "              [0, 0, 0, 0.7, 0.3, 0],\n",
    "              [0, 0, 0, 0, 0.8, 0.2],\n",
    "              [0.4, 0, 0, 0, 0, 0.6]])\n",
    "print(P)\n",
    "print(f'Размерность полученной матрицы: {P.shape}')\n",
    "print(f'Проверим, является ли полученная матрица стохастической: {(P.sum(axis=1)==1).all()}')"
   ]
  },
  {
   "attachments": {},
   "cell_type": "markdown",
   "metadata": {},
   "source": [
    "### 2. Размеченный граф Марковской цепи"
   ]
  },
  {
   "attachments": {},
   "cell_type": "markdown",
   "metadata": {},
   "source": [
    "<img src=\"Рисунок1.png\"/>"
   ]
  },
  {
   "attachments": {},
   "cell_type": "markdown",
   "metadata": {},
   "source": [
    "### 3.Доказательство эргодичности"
   ]
  },
  {
   "cell_type": "code",
   "execution_count": 33,
   "metadata": {},
   "outputs": [],
   "source": [
    "def count_zeros(pow : int) -> np.int32:\n",
    "    return (np.linalg.matrix_power(P, pow).ravel() == 0).sum()\n",
    "    \n",
    "count_zeros = np.vectorize(count_zeros)"
   ]
  },
  {
   "cell_type": "code",
   "execution_count": 34,
   "metadata": {},
   "outputs": [
    {
     "data": {
      "text/html": [
       "<div>\n",
       "<style scoped>\n",
       "    .dataframe tbody tr th:only-of-type {\n",
       "        vertical-align: middle;\n",
       "    }\n",
       "\n",
       "    .dataframe tbody tr th {\n",
       "        vertical-align: top;\n",
       "    }\n",
       "\n",
       "    .dataframe thead th {\n",
       "        text-align: right;\n",
       "    }\n",
       "</style>\n",
       "<table border=\"1\" class=\"dataframe\">\n",
       "  <thead>\n",
       "    <tr style=\"text-align: right;\">\n",
       "      <th></th>\n",
       "      <th>Степень матрицы</th>\n",
       "      <th>Количество нулевых элементов</th>\n",
       "    </tr>\n",
       "  </thead>\n",
       "  <tbody>\n",
       "    <tr>\n",
       "      <th>0</th>\n",
       "      <td>1</td>\n",
       "      <td>23</td>\n",
       "    </tr>\n",
       "    <tr>\n",
       "      <th>1</th>\n",
       "      <td>2</td>\n",
       "      <td>17</td>\n",
       "    </tr>\n",
       "    <tr>\n",
       "      <th>2</th>\n",
       "      <td>3</td>\n",
       "      <td>11</td>\n",
       "    </tr>\n",
       "    <tr>\n",
       "      <th>3</th>\n",
       "      <td>4</td>\n",
       "      <td>5</td>\n",
       "    </tr>\n",
       "    <tr>\n",
       "      <th>4</th>\n",
       "      <td>5</td>\n",
       "      <td>0</td>\n",
       "    </tr>\n",
       "    <tr>\n",
       "      <th>5</th>\n",
       "      <td>6</td>\n",
       "      <td>0</td>\n",
       "    </tr>\n",
       "    <tr>\n",
       "      <th>6</th>\n",
       "      <td>7</td>\n",
       "      <td>0</td>\n",
       "    </tr>\n",
       "    <tr>\n",
       "      <th>7</th>\n",
       "      <td>8</td>\n",
       "      <td>0</td>\n",
       "    </tr>\n",
       "    <tr>\n",
       "      <th>8</th>\n",
       "      <td>9</td>\n",
       "      <td>0</td>\n",
       "    </tr>\n",
       "  </tbody>\n",
       "</table>\n",
       "</div>"
      ],
      "text/plain": [
       "   Степень матрицы  Количество нулевых элементов\n",
       "0                1                            23\n",
       "1                2                            17\n",
       "2                3                            11\n",
       "3                4                             5\n",
       "4                5                             0\n",
       "5                6                             0\n",
       "6                7                             0\n",
       "7                8                             0\n",
       "8                9                             0"
      ]
     },
     "execution_count": 34,
     "metadata": {},
     "output_type": "execute_result"
    }
   ],
   "source": [
    "df = pd.DataFrame()\n",
    "df['Степень матрицы'] = np.arange(1, 10)\n",
    "df['Количество нулевых элементов'] = count_zeros(df['Степень матрицы'])\n",
    "df"
   ]
  },
  {
   "cell_type": "code",
   "execution_count": 35,
   "metadata": {},
   "outputs": [
    {
     "data": {
      "text/plain": [
       "<AxesSubplot: xlabel='Степень матрицы', ylabel='Количество нулевых элементов'>"
      ]
     },
     "execution_count": 35,
     "metadata": {},
     "output_type": "execute_result"
    },
    {
     "data": {
      "image/png": "[encoded data removed]",
      "text/plain": [
       "<Figure size 640x480 with 1 Axes>"
      ]
     },
     "metadata": {},
     "output_type": "display_data"
    }
   ],
   "source": [
    "sns.lineplot(df, x='Степень матрицы', y='Количество нулевых элементов')"
   ]
  },
  {
   "attachments": {},
   "cell_type": "markdown",
   "metadata": {},
   "source": [
    "Так как существует $n_0=5$ такое, что $\\min\\limits_{i, j}p_{ij}^{(n_0)}>0$, цепь является эргодической."
   ]
  },
  {
   "attachments": {},
   "cell_type": "markdown",
   "metadata": {},
   "source": [
    "Выведем $P^5$."
   ]
  },
  {
   "cell_type": "code",
   "execution_count": 36,
   "metadata": {},
   "outputs": [
    {
     "data": {
      "text/plain": [
       "[[0.3584, 0.3481, 0.2544, 0.032, 0.0067, 0.0004],\n",
       " [0.2326, 0.2423, 0.4017, 0.0848, 0.0343, 0.0043],\n",
       " [0.0089, 0.0007, 0.5905, 0.2112, 0.1548, 0.0339],\n",
       " [0.1193, 0.0245, 0.0014, 0.1681, 0.4788, 0.2079],\n",
       " [0.2935, 0.1111, 0.0173, 0.0005, 0.3277, 0.2499],\n",
       " [0.4642, 0.3292, 0.1198, 0.0084, 0.0007, 0.0778]]"
      ]
     },
     "execution_count": 36,
     "metadata": {},
     "output_type": "execute_result"
    }
   ],
   "source": [
    "np.round(np.linalg.matrix_power(P, 5), 4).tolist()"
   ]
  },
  {
   "attachments": {},
   "cell_type": "markdown",
   "metadata": {},
   "source": [
    "### 4. Моделирование вектора начальных вероятностей $p(0)$ согласно приложенному алгоритму"
   ]
  },
  {
   "attachments": {},
   "cell_type": "markdown",
   "metadata": {},
   "source": [
    "a)Генерируем вектор $\\vec{r}$ из независимых и равномерно распределенных на отрезке $[0,1]$ случайных величин;<br>\n",
    "б)Строим вариационный ряд, сортируя сгенерированный вектор;<br>\n",
    "в)Находим длины отрезков, на которые вектор $\\vec{r}$ разбивает отрезок $[0,1]$ - получаем вектор начальных вероятностей."
   ]
  },
  {
   "cell_type": "code",
   "execution_count": 37,
   "metadata": {},
   "outputs": [
    {
     "name": "stdout",
     "output_type": "stream",
     "text": [
      "Вектор из независимых и равномерно распределенных на отрезке [0,1] случайных величин: [0.3745, 0.9507, 0.732, 0.5987, 0.156]\n",
      "Вариационный ряд: [0.156, 0.3745, 0.5987, 0.732, 0.9507]\n",
      "Вектор начальных вероятностей: [0.156, 0.2185, 0.2241, 0.1333, 0.2187, 0.0493]\n"
     ]
    }
   ],
   "source": [
    "r = np.random.random(m-1)\n",
    "r_series = np.sort(r)\n",
    "p_0 = np.diff(np.insert(r_series, [0, len(r_series)], [0, 1]))\n",
    "print(f'Вектор из независимых и равномерно распределенных на отрезке [0,1] случайных величин: {np.round(r, 4).tolist()}')\n",
    "print(f'Вариационный ряд: {np.round(r_series, 4).tolist()}')\n",
    "print(f'Вектор начальных вероятностей: {np.round(p_0, 4).tolist()}')"
   ]
  },
  {
   "attachments": {},
   "cell_type": "markdown",
   "metadata": {},
   "source": [
    "### 5. Вычисление безусловных вероятностей состояний цепи через $k$ шагов"
   ]
  },
  {
   "attachments": {},
   "cell_type": "markdown",
   "metadata": {},
   "source": [
    "$p(k)^T=p(0)^T\\cdot P^k,\\ k = 10$"
   ]
  },
  {
   "cell_type": "code",
   "execution_count": 38,
   "metadata": {},
   "outputs": [
    {
     "data": {
      "text/plain": [
       "array([0.20349169, 0.15347911, 0.31096943, 0.10356577, 0.15288001,\n",
       "       0.07561398])"
      ]
     },
     "execution_count": 38,
     "metadata": {},
     "output_type": "execute_result"
    }
   ],
   "source": [
    "p_k = p_0 @ np.linalg.matrix_power(P, k)\n",
    "p_k"
   ]
  },
  {
   "attachments": {},
   "cell_type": "markdown",
   "metadata": {},
   "source": [
    "### 6. Моделирование $n$ траекторий полученной цепи за $k$ шагов"
   ]
  },
  {
   "cell_type": "code",
   "execution_count": 39,
   "metadata": {},
   "outputs": [],
   "source": [
    "num_states = np.zeros(m)\n",
    "trajectories = []\n",
    "for i in range(n):\n",
    "    state = np.argmax(p_0.cumsum()>np.random.random(1))\n",
    "    trajectory = [state]\n",
    "    for j in range(k):\n",
    "        state = np.argmax(P[state].cumsum()>np.random.random(1))\n",
    "        trajectory.append(state)\n",
    "    num_states[state]+=1\n",
    "    trajectories.append(trajectory)"
   ]
  },
  {
   "attachments": {},
   "cell_type": "markdown",
   "metadata": {},
   "source": [
    "Выведем 3 случайных траектории."
   ]
  },
  {
   "cell_type": "code",
   "execution_count": 46,
   "metadata": {},
   "outputs": [
    {
     "name": "stdout",
     "output_type": "stream",
     "text": [
      "Номер в списке: 31\n",
      "[4, 4, 5, 5, 5, 5, 0, 0, 0, 1, 0, 0, 0, 0, 1, 1, 1, 1, 1, 1, 1, 0, 0, 0, 0, 1]\n",
      "Номер в списке: 72\n",
      "[2, 2, 2, 2, 2, 2, 2, 2, 2, 2, 2, 2, 3, 3, 3, 4, 4, 4, 4, 4, 4, 4, 4, 4, 4, 4]\n",
      "Номер в списке: 5\n",
      "[1, 1, 1, 1, 2, 3, 3, 3, 3, 3, 3, 3, 3, 3, 3, 4, 4, 4, 4, 5, 0, 0, 1, 1, 1, 1]\n"
     ]
    }
   ],
   "source": [
    "for i in range(3):\n",
    "    ind = int(np.random.random(1)*len(trajectories))\n",
    "    print(f'Номер в списке: {ind}\\n{trajectories[ind]}')"
   ]
  },
  {
   "cell_type": "code",
   "execution_count": 41,
   "metadata": {},
   "outputs": [
    {
     "data": {
      "text/html": [
       "<div>\n",
       "<style scoped>\n",
       "    .dataframe tbody tr th:only-of-type {\n",
       "        vertical-align: middle;\n",
       "    }\n",
       "\n",
       "    .dataframe tbody tr th {\n",
       "        vertical-align: top;\n",
       "    }\n",
       "\n",
       "    .dataframe thead th {\n",
       "        text-align: right;\n",
       "    }\n",
       "</style>\n",
       "<table border=\"1\" class=\"dataframe\">\n",
       "  <thead>\n",
       "    <tr style=\"text-align: right;\">\n",
       "      <th></th>\n",
       "      <th>Номер состояния</th>\n",
       "      <th>Частота на k-ом шаге</th>\n",
       "    </tr>\n",
       "  </thead>\n",
       "  <tbody>\n",
       "    <tr>\n",
       "      <th>0</th>\n",
       "      <td>1</td>\n",
       "      <td>23.0</td>\n",
       "    </tr>\n",
       "    <tr>\n",
       "      <th>1</th>\n",
       "      <td>2</td>\n",
       "      <td>20.0</td>\n",
       "    </tr>\n",
       "    <tr>\n",
       "      <th>2</th>\n",
       "      <td>3</td>\n",
       "      <td>39.0</td>\n",
       "    </tr>\n",
       "    <tr>\n",
       "      <th>3</th>\n",
       "      <td>4</td>\n",
       "      <td>12.0</td>\n",
       "    </tr>\n",
       "    <tr>\n",
       "      <th>4</th>\n",
       "      <td>5</td>\n",
       "      <td>28.0</td>\n",
       "    </tr>\n",
       "    <tr>\n",
       "      <th>5</th>\n",
       "      <td>6</td>\n",
       "      <td>8.0</td>\n",
       "    </tr>\n",
       "  </tbody>\n",
       "</table>\n",
       "</div>"
      ],
      "text/plain": [
       "   Номер состояния  Частота на k-ом шаге\n",
       "0                1                  23.0\n",
       "1                2                  20.0\n",
       "2                3                  39.0\n",
       "3                4                  12.0\n",
       "4                5                  28.0\n",
       "5                6                   8.0"
      ]
     },
     "execution_count": 41,
     "metadata": {},
     "output_type": "execute_result"
    }
   ],
   "source": [
    "state_df = pd.DataFrame({'Номер состояния':np.arange(1,7), 'Частота на k-ом шаге' : num_states})\n",
    "state_df"
   ]
  },
  {
   "cell_type": "code",
   "execution_count": 42,
   "metadata": {},
   "outputs": [
    {
     "data": {
      "text/plain": [
       "<AxesSubplot: xlabel='Номер состояния', ylabel='Частота на k-ом шаге'>"
      ]
     },
     "execution_count": 42,
     "metadata": {},
     "output_type": "execute_result"
    },
    {
     "data": {
      "image/png": "[encoded data removed]",
      "text/plain": [
       "<Figure size 640x480 with 1 Axes>"
      ]
     },
     "metadata": {},
     "output_type": "display_data"
    }
   ],
   "source": [
    "sns.barplot(state_df, x='Номер состояния', y='Частота на k-ом шаге')"
   ]
  },
  {
   "attachments": {},
   "cell_type": "markdown",
   "metadata": {},
   "source": [
    "### 7. Вычисление эмпирических вероятностей состояний цепи на $k$-ом шаге и сравним их с теоретическими"
   ]
  },
  {
   "cell_type": "code",
   "execution_count": 43,
   "metadata": {},
   "outputs": [
    {
     "data": {
      "text/html": [
       "<div>\n",
       "<style scoped>\n",
       "    .dataframe tbody tr th:only-of-type {\n",
       "        vertical-align: middle;\n",
       "    }\n",
       "\n",
       "    .dataframe tbody tr th {\n",
       "        vertical-align: top;\n",
       "    }\n",
       "\n",
       "    .dataframe thead th {\n",
       "        text-align: right;\n",
       "    }\n",
       "</style>\n",
       "<table border=\"1\" class=\"dataframe\">\n",
       "  <thead>\n",
       "    <tr style=\"text-align: right;\">\n",
       "      <th></th>\n",
       "      <th>Номер состояния</th>\n",
       "      <th>Частота на k-ом шаге</th>\n",
       "      <th>Эмпирическая вероятность</th>\n",
       "      <th>Теоретическая вероятность</th>\n",
       "    </tr>\n",
       "  </thead>\n",
       "  <tbody>\n",
       "    <tr>\n",
       "      <th>0</th>\n",
       "      <td>1</td>\n",
       "      <td>23.0</td>\n",
       "      <td>0.176923</td>\n",
       "      <td>0.203492</td>\n",
       "    </tr>\n",
       "    <tr>\n",
       "      <th>1</th>\n",
       "      <td>2</td>\n",
       "      <td>20.0</td>\n",
       "      <td>0.153846</td>\n",
       "      <td>0.153479</td>\n",
       "    </tr>\n",
       "    <tr>\n",
       "      <th>2</th>\n",
       "      <td>3</td>\n",
       "      <td>39.0</td>\n",
       "      <td>0.300000</td>\n",
       "      <td>0.310969</td>\n",
       "    </tr>\n",
       "    <tr>\n",
       "      <th>3</th>\n",
       "      <td>4</td>\n",
       "      <td>12.0</td>\n",
       "      <td>0.092308</td>\n",
       "      <td>0.103566</td>\n",
       "    </tr>\n",
       "    <tr>\n",
       "      <th>4</th>\n",
       "      <td>5</td>\n",
       "      <td>28.0</td>\n",
       "      <td>0.215385</td>\n",
       "      <td>0.152880</td>\n",
       "    </tr>\n",
       "    <tr>\n",
       "      <th>5</th>\n",
       "      <td>6</td>\n",
       "      <td>8.0</td>\n",
       "      <td>0.061538</td>\n",
       "      <td>0.075614</td>\n",
       "    </tr>\n",
       "  </tbody>\n",
       "</table>\n",
       "</div>"
      ],
      "text/plain": [
       "   Номер состояния  Частота на k-ом шаге  Эмпирическая вероятность  Теоретическая вероятность\n",
       "0                1                  23.0                  0.176923                   0.203492\n",
       "1                2                  20.0                  0.153846                   0.153479\n",
       "2                3                  39.0                  0.300000                   0.310969\n",
       "3                4                  12.0                  0.092308                   0.103566\n",
       "4                5                  28.0                  0.215385                   0.152880\n",
       "5                6                   8.0                  0.061538                   0.075614"
      ]
     },
     "execution_count": 43,
     "metadata": {},
     "output_type": "execute_result"
    }
   ],
   "source": [
    "state_df['Эмпирическая вероятность'] = state_df['Частота на k-ом шаге']/n\n",
    "state_df['Теоретическая вероятность'] = p_k\n",
    "state_df"
   ]
  },
  {
   "attachments": {},
   "cell_type": "markdown",
   "metadata": {},
   "source": [
    "### 8. Вычисление финальных вероятностей состояний цепи"
   ]
  },
  {
   "attachments": {},
   "cell_type": "markdown",
   "metadata": {},
   "source": [
    "Для того, чтобы найти финальные вероятности состояний цепи, необходимо решить следующую систему:"
   ]
  },
  {
   "attachments": {},
   "cell_type": "markdown",
   "metadata": {},
   "source": [
    "\\begin{equation*}\n",
    "  \\left\\{\n",
    "    \\begin{aligned}\n",
    "      & p_1 = 0.7p_1+0.2p_2+0.4p_6\\\\\n",
    "      & p_2 = 0.3p_1+0.6p_2\\\\\n",
    "      & p_3 = 0.2p_2+0.9p_3\\\\\n",
    "      & p_4 = 0.1p_3+0.7p_4\\\\\n",
    "      & p_5 = 0.3p_4+0.8p_5\\\\\n",
    "      & p_6 = 0.2p_5+0.6p_6\\\\\n",
    "      & p_1+p_2+p_3+p_4+p_5+p_6=1\n",
    "    \\end{aligned}\n",
    "  \\right.\n",
    "\\end{equation*}"
   ]
  },
  {
   "cell_type": "code",
   "execution_count": 44,
   "metadata": {},
   "outputs": [
    {
     "data": {
      "text/html": [
       "<div>\n",
       "<style scoped>\n",
       "    .dataframe tbody tr th:only-of-type {\n",
       "        vertical-align: middle;\n",
       "    }\n",
       "\n",
       "    .dataframe tbody tr th {\n",
       "        vertical-align: top;\n",
       "    }\n",
       "\n",
       "    .dataframe thead th {\n",
       "        text-align: right;\n",
       "    }\n",
       "</style>\n",
       "<table border=\"1\" class=\"dataframe\">\n",
       "  <thead>\n",
       "    <tr style=\"text-align: right;\">\n",
       "      <th></th>\n",
       "      <th>Эмпирическая вероятность</th>\n",
       "      <th>Теоретическая вероятность</th>\n",
       "      <th>Финальная вероятность</th>\n",
       "    </tr>\n",
       "  </thead>\n",
       "  <tbody>\n",
       "    <tr>\n",
       "      <th>0</th>\n",
       "      <td>0.176923</td>\n",
       "      <td>0.203492</td>\n",
       "      <td>0.205128</td>\n",
       "    </tr>\n",
       "    <tr>\n",
       "      <th>1</th>\n",
       "      <td>0.153846</td>\n",
       "      <td>0.153479</td>\n",
       "      <td>0.153840</td>\n",
       "    </tr>\n",
       "    <tr>\n",
       "      <th>2</th>\n",
       "      <td>0.300000</td>\n",
       "      <td>0.310969</td>\n",
       "      <td>0.307692</td>\n",
       "    </tr>\n",
       "    <tr>\n",
       "      <th>3</th>\n",
       "      <td>0.092308</td>\n",
       "      <td>0.103566</td>\n",
       "      <td>0.102564</td>\n",
       "    </tr>\n",
       "    <tr>\n",
       "      <th>4</th>\n",
       "      <td>0.215385</td>\n",
       "      <td>0.152880</td>\n",
       "      <td>0.153846</td>\n",
       "    </tr>\n",
       "    <tr>\n",
       "      <th>5</th>\n",
       "      <td>0.061538</td>\n",
       "      <td>0.075614</td>\n",
       "      <td>0.076923</td>\n",
       "    </tr>\n",
       "  </tbody>\n",
       "</table>\n",
       "</div>"
      ],
      "text/plain": [
       "   Эмпирическая вероятность  Теоретическая вероятность  Финальная вероятность\n",
       "0                  0.176923                   0.203492               0.205128\n",
       "1                  0.153846                   0.153479               0.153840\n",
       "2                  0.300000                   0.310969               0.307692\n",
       "3                  0.092308                   0.103566               0.102564\n",
       "4                  0.215385                   0.152880               0.153846\n",
       "5                  0.061538                   0.075614               0.076923"
      ]
     },
     "execution_count": 44,
     "metadata": {},
     "output_type": "execute_result"
    }
   ],
   "source": [
    "p_final = np.array([0.205128, 0.15384, 0.307692, 0.102564, 0.153846, 0.0769231])\n",
    "state_df['Финальная вероятность'] = p_final\n",
    "state_df[['Эмпирическая вероятность', 'Теоретическая вероятность', 'Финальная вероятность']]"
   ]
  },
  {
   "attachments": {},
   "cell_type": "markdown",
   "metadata": {},
   "source": [
    "### Выводы"
   ]
  },
  {
   "attachments": {},
   "cell_type": "markdown",
   "metadata": {},
   "source": [
    "При относитнльно большом количестве $n=130$ смоделированных траекторий, эмпирические вероятности состояний цепи близки к теоретическим. Кроме того, теоретические вероятности слабо отличаются от финальных. Таким образом, мы проверили эргодичность системы."
   ]
  }
 ],
 "metadata": {
  "kernelspec": {
   "display_name": "Python 3",
   "language": "python",
   "name": "python3"
  },
  "language_info": {
   "codemirror_mode": {
    "name": "ipython",
    "version": 3
   },
   "file_extension": ".py",
   "mimetype": "text/x-python",
   "name": "python",
   "nbconvert_exporter": "python",
   "pygments_lexer": "ipython3",
   "version": "3.10.9"
  },
  "orig_nbformat": 4,
  "vscode": {
   "interpreter": {
    "hash": "de66d7802e14fb2e8694b63e255d0fe3514f0a531cbbfb87d1ecc51a74f4db4d"
   }
  }
 },
 "nbformat": 4,
 "nbformat_minor": 2
}
