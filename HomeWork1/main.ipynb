{
 "cells": [
  {
   "cell_type": "code",
   "execution_count": 1,
   "metadata": {},
   "outputs": [],
   "source": [
    "import numpy as np"
   ]
  },
  {
   "attachments": {},
   "cell_type": "markdown",
   "metadata": {},
   "source": [
    "### Исходные данные варианта 7"
   ]
  },
  {
   "cell_type": "code",
   "execution_count": 2,
   "metadata": {},
   "outputs": [],
   "source": [
    "m = 6\n",
    "k = 25\n",
    "n = 130"
   ]
  },
  {
   "attachments": {},
   "cell_type": "markdown",
   "metadata": {},
   "source": [
    "### 1. Выпишем матрицу переходных вероятностей"
   ]
  },
  {
   "cell_type": "code",
   "execution_count": 3,
   "metadata": {},
   "outputs": [
    {
     "name": "stdout",
     "output_type": "stream",
     "text": [
      "[[0.7 0.3 0.  0.  0.  0. ]\n",
      " [0.2 0.6 0.2 0.  0.  0. ]\n",
      " [0.  0.  0.9 0.1 0.  0. ]\n",
      " [0.  0.  0.  0.7 0.3 0. ]\n",
      " [0.  0.  0.  0.  0.8 0.2]\n",
      " [0.4 0.  0.  0.  0.  0.6]]\n",
      "Размерность полученной матрицы: (6, 6)\n",
      "Проверим, является ли полученная матрица стохастической: True\n"
     ]
    }
   ],
   "source": [
    "P = np.array([[0.7, 0.3, 0, 0, 0, 0],\n",
    "              [0.2, 0.6, 0.2, 0, 0, 0],\n",
    "              [0, 0, 0.9, 0.1, 0, 0],\n",
    "              [0, 0, 0, 0.7, 0.3, 0],\n",
    "              [0, 0, 0, 0, 0.8, 0.2],\n",
    "              [0.4, 0, 0, 0, 0, 0.6]])\n",
    "print(P)\n",
    "print(f'Размерность полученной матрицы: {P.shape}')\n",
    "print(f'Проверим, является ли полученная матрица стохастической: {(P.sum(axis=1)==1).all()}')"
   ]
  },
  {
   "cell_type": "markdown",
   "metadata": {},
   "source": []
  }
 ],
 "metadata": {
  "kernelspec": {
   "display_name": "Python 3",
   "language": "python",
   "name": "python3"
  },
  "language_info": {
   "codemirror_mode": {
    "name": "ipython",
    "version": 3
   },
   "file_extension": ".py",
   "mimetype": "text/x-python",
   "name": "python",
   "nbconvert_exporter": "python",
   "pygments_lexer": "ipython3",
   "version": "3.10.9"
  },
  "orig_nbformat": 4,
  "vscode": {
   "interpreter": {
    "hash": "de66d7802e14fb2e8694b63e255d0fe3514f0a531cbbfb87d1ecc51a74f4db4d"
   }
  }
 },
 "nbformat": 4,
 "nbformat_minor": 2
}
